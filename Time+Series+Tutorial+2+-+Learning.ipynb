{
 "cells": [
  {
   "cell_type": "code",
   "execution_count": 15,
   "metadata": {},
   "outputs": [
    {
     "data": {
      "image/png": "[encoded data removed]",
      "text/plain": [
       "<matplotlib.figure.Figure at 0x1b0e09b31d0>"
      ]
     },
     "metadata": {},
     "output_type": "display_data"
    }
   ],
   "source": [
    "# Reference : https://www.youtube.com/watch?v=MYcK29g_15o\n",
    "# Python : Subplots\n",
    "\n",
    "import numpy as np\n",
    "import matplotlib.pyplot as plt\n",
    "%matplotlib inline\n",
    "\n",
    "# Create a single figure with 4 plots. 2R*2C (i.e) shape=(2,2) all plots same sizes\n",
    "\n",
    "# create a figure\n",
    "fig1 = plt.figure(1)\n",
    "\n",
    "# Axis for the plot1\n",
    "ax1=plt.subplot2grid(shape=(2,2),loc=(0,0))\n",
    "# Assign x,y coordinates\n",
    "ax1.text(x=0.5,y=0.5,s='Plot1',va='center',ha='center')\n",
    "\n",
    "# Axis for the plot2\n",
    "ax2=plt.subplot2grid(shape=(2,2),loc=(0,1))\n",
    "# Assign x,y coordinates\n",
    "ax2.text(x=0.5,y=0.5,s='Plot2',va='center',ha='center')\n",
    "\n",
    "# Axis for the plot3\n",
    "ax3=plt.subplot2grid(shape=(2,2),loc=(1,0))\n",
    "# Assign x,y coordinates\n",
    "ax3.text(x=0.5,y=0.5,s='Plot3',va='center',ha='center')\n",
    "\n",
    "# Axis for the plot4\n",
    "ax4=plt.subplot2grid(shape=(2,2),loc=(1,1))\n",
    "# Assign x,y coordinates\n",
    "ax4.text(x=0.5,y=0.5,s='Plot4',va='center',ha='center')\n",
    "\n",
    "# Draw the plot\n",
    "plt.suptitle(\"subplot 1 via Grids\")\n",
    "plt.tight_layout()\n",
    "plt.subplots_adjust(top=0.90)\n",
    "plt.show()"
   ]
  },
  {
   "cell_type": "code",
   "execution_count": 17,
   "metadata": {},
   "outputs": [
    {
     "data": {
      "image/png": "[encoded data removed]",
      "text/plain": [
       "<matplotlib.figure.Figure at 0x1b0e0e724e0>"
      ]
     },
     "metadata": {},
     "output_type": "display_data"
    }
   ],
   "source": [
    "# Reference : https://www.youtube.com/watch?v=MYcK29g_15o\n",
    "# Python : Subplots\n",
    "\n",
    "import numpy as np\n",
    "import matplotlib.pyplot as plt\n",
    "%matplotlib inline\n",
    "\n",
    "# Create a single figure with 4 plots. 23R*23C (i.e) shape=(3,3) but all plots different sizes\n",
    "\n",
    "# create a figure\n",
    "fig1 = plt.figure(2)\n",
    "\n",
    "# Axis for the plot1\n",
    "ax1=plt.subplot2grid(shape=(3,3),loc=(0,0),rowspan=1,colspan=3)\n",
    "# Assign x,y coordinates\n",
    "ax1.text(x=0.5,y=0.5,s='Plot1',va='center',ha='center')\n",
    "\n",
    "# Axis for the plot2\n",
    "ax2=plt.subplot2grid(shape=(3,3),loc=(1,0),rowspan=1,colspan=2)\n",
    "# Assign x,y coordinates\n",
    "ax2.text(x=0.5,y=0.5,s='Plot2',va='center',ha='center')\n",
    "\n",
    "# Axis for the plot3\n",
    "ax3=plt.subplot2grid(shape=(3,3),loc=(1,2),rowspan=2,colspan=1)\n",
    "# Assign x,y coordinates\n",
    "ax3.text(x=0.5,y=0.5,s='Plot3',va='center',ha='center')\n",
    "\n",
    "# Axis for the plot4\n",
    "ax4=plt.subplot2grid(shape=(3,3),loc=(2,0))\n",
    "# Assign x,y coordinates\n",
    "ax4.text(x=0.5,y=0.5,s='Plot4',va='center',ha='center')\n",
    "\n",
    "# Axis for the plot5\n",
    "ax5=plt.subplot2grid(shape=(3,3),loc=(2,1))\n",
    "# Assign x,y coordinates\n",
    "ax5.text(x=0.5,y=0.5,s='Plot5',va='center',ha='center')\n",
    "\n",
    "\n",
    "# Draw the plot\n",
    "plt.suptitle(\"subplot 1 via Grids\")\n",
    "plt.tight_layout()\n",
    "plt.subplots_adjust(top=0.90)\n",
    "plt.show()"
   ]
  },
  {
   "cell_type": "code",
   "execution_count": null,
   "metadata": {
    "collapsed": true
   },
   "outputs": [],
   "source": []
  }
 ],
 "metadata": {
  "kernelspec": {
   "display_name": "Python 3",
   "language": "python",
   "name": "python3"
  },
  "language_info": {
   "codemirror_mode": {
    "name": "ipython",
    "version": 3
   },
   "file_extension": ".py",
   "mimetype": "text/x-python",
   "name": "python",
   "nbconvert_exporter": "python",
   "pygments_lexer": "ipython3",
   "version": "3.6.1"
  }
 },
 "nbformat": 4,
 "nbformat_minor": 2
}
