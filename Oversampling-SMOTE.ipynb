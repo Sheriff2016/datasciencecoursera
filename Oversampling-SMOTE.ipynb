{
 "cells": [
  {
   "cell_type": "code",
   "execution_count": 1,
   "metadata": {},
   "outputs": [
    {
     "name": "stdout",
     "output_type": "stream",
     "text": [
      "Requirement already satisfied: imblearn in c:\\users\\s719789\\appdata\\local\\continuum\\anaconda2\\lib\\site-packages\n",
      "Requirement already satisfied: imbalanced-learn in c:\\users\\s719789\\appdata\\local\\continuum\\anaconda2\\lib\\site-packages (from imblearn)\n",
      "Requirement already satisfied: numpy in c:\\users\\s719789\\appdata\\local\\continuum\\anaconda2\\lib\\site-packages (from imbalanced-learn->imblearn)\n",
      "Requirement already satisfied: scikit-learn in c:\\users\\s719789\\appdata\\local\\continuum\\anaconda2\\lib\\site-packages (from imbalanced-learn->imblearn)\n",
      "Requirement already satisfied: scipy in c:\\users\\s719789\\appdata\\local\\continuum\\anaconda2\\lib\\site-packages (from imbalanced-learn->imblearn)\n"
     ]
    }
   ],
   "source": [
    "# Reference : https://app.dominodatalab.com/u/LeJit/ImbalancedData/view/ImbalancedLearning.ipynb\n",
    "# https://blog.dominodatalab.com/imbalanced-datasets/\n",
    "\n",
    "!pip install imblearn  \n",
    "from imblearn.datasets import make_imbalance"
   ]
  },
  {
   "cell_type": "code",
   "execution_count": 2,
   "metadata": {},
   "outputs": [
    {
     "name": "stdout",
     "output_type": "stream",
     "text": [
      "Populating the interactive namespace from numpy and matplotlib\n"
     ]
    }
   ],
   "source": [
    "import numpy as np\n",
    "import pandas as pd\n",
    "import matplotlib.pyplot as plt\n",
    "import seaborn as sns\n",
    "%pylab inline\n",
    "sns.set()"
   ]
  },
  {
   "cell_type": "code",
   "execution_count": 3,
   "metadata": {
    "collapsed": true
   },
   "outputs": [],
   "source": [
    "import os\n",
    "os.chdir('C:\\\\Users\\\\S719789\\\\Documents')"
   ]
  },
  {
   "cell_type": "code",
   "execution_count": 4,
   "metadata": {
    "collapsed": true
   },
   "outputs": [],
   "source": [
    "lawmaker_df = pd.read_csv(\"enigma-lawmaker.csv\")"
   ]
  },
  {
   "cell_type": "code",
   "execution_count": 5,
   "metadata": {},
   "outputs": [
    {
     "data": {
      "text/html": [
       "<div>\n",
       "<style>\n",
       "    .dataframe thead tr:only-child th {\n",
       "        text-align: right;\n",
       "    }\n",
       "\n",
       "    .dataframe thead th {\n",
       "        text-align: left;\n",
       "    }\n",
       "\n",
       "    .dataframe tbody tr th {\n",
       "        vertical-align: top;\n",
       "    }\n",
       "</style>\n",
       "<table border=\"1\" class=\"dataframe\">\n",
       "  <thead>\n",
       "    <tr style=\"text-align: right;\">\n",
       "      <th></th>\n",
       "      <th>cid</th>\n",
       "      <th>name</th>\n",
       "      <th>minvalue</th>\n",
       "      <th>maxvalue</th>\n",
       "      <th>avgvalue</th>\n",
       "      <th>year</th>\n",
       "      <th>chamber</th>\n",
       "      <th>origin</th>\n",
       "      <th>serialid</th>\n",
       "    </tr>\n",
       "  </thead>\n",
       "  <tbody>\n",
       "    <tr>\n",
       "      <th>0</th>\n",
       "      <td>N00007017</td>\n",
       "      <td>Darrell Issa (R-Calif)</td>\n",
       "      <td>330380031.0</td>\n",
       "      <td>597850005.0</td>\n",
       "      <td>464115018.0</td>\n",
       "      <td>2012</td>\n",
       "      <td>House</td>\n",
       "      <td>Center for Responsive Politics</td>\n",
       "      <td>1</td>\n",
       "    </tr>\n",
       "    <tr>\n",
       "      <th>1</th>\n",
       "      <td>N00004309</td>\n",
       "      <td>Herb Kohl (D-Wis)</td>\n",
       "      <td>276478025.0</td>\n",
       "      <td>383347994.0</td>\n",
       "      <td>329913009.0</td>\n",
       "      <td>2012</td>\n",
       "      <td>Senate</td>\n",
       "      <td>Center for Responsive Politics</td>\n",
       "      <td>2</td>\n",
       "    </tr>\n",
       "    <tr>\n",
       "      <th>2</th>\n",
       "      <td>N00002097</td>\n",
       "      <td>Mark Warner (D-Va)</td>\n",
       "      <td>96221316.0</td>\n",
       "      <td>418742000.0</td>\n",
       "      <td>257481658.0</td>\n",
       "      <td>2012</td>\n",
       "      <td>Senate</td>\n",
       "      <td>Center for Responsive Politics</td>\n",
       "      <td>3</td>\n",
       "    </tr>\n",
       "    <tr>\n",
       "      <th>3</th>\n",
       "      <td>N00000245</td>\n",
       "      <td>John Kerry (D-Mass)</td>\n",
       "      <td>184659550.0</td>\n",
       "      <td>288525063.0</td>\n",
       "      <td>236592306.0</td>\n",
       "      <td>2012</td>\n",
       "      <td>Executive</td>\n",
       "      <td>Center for Responsive Politics</td>\n",
       "      <td>4</td>\n",
       "    </tr>\n",
       "    <tr>\n",
       "      <th>4</th>\n",
       "      <td>N00029127</td>\n",
       "      <td>Jared Polis (D-Colo)</td>\n",
       "      <td>69791412.0</td>\n",
       "      <td>326099998.0</td>\n",
       "      <td>197945705.0</td>\n",
       "      <td>2012</td>\n",
       "      <td>House</td>\n",
       "      <td>Center for Responsive Politics</td>\n",
       "      <td>5</td>\n",
       "    </tr>\n",
       "  </tbody>\n",
       "</table>\n",
       "</div>"
      ],
      "text/plain": [
       "         cid                    name     minvalue     maxvalue     avgvalue  \\\n",
       "0  N00007017  Darrell Issa (R-Calif)  330380031.0  597850005.0  464115018.0   \n",
       "1  N00004309       Herb Kohl (D-Wis)  276478025.0  383347994.0  329913009.0   \n",
       "2  N00002097      Mark Warner (D-Va)   96221316.0  418742000.0  257481658.0   \n",
       "3  N00000245     John Kerry (D-Mass)  184659550.0  288525063.0  236592306.0   \n",
       "4  N00029127    Jared Polis (D-Colo)   69791412.0  326099998.0  197945705.0   \n",
       "\n",
       "   year    chamber                          origin  serialid  \n",
       "0  2012      House  Center for Responsive Politics         1  \n",
       "1  2012     Senate  Center for Responsive Politics         2  \n",
       "2  2012     Senate  Center for Responsive Politics         3  \n",
       "3  2012  Executive  Center for Responsive Politics         4  \n",
       "4  2012      House  Center for Responsive Politics         5  "
      ]
     },
     "execution_count": 5,
     "metadata": {},
     "output_type": "execute_result"
    }
   ],
   "source": [
    "lawmaker_df.head()"
   ]
  },
  {
   "cell_type": "code",
   "execution_count": 6,
   "metadata": {
    "collapsed": true
   },
   "outputs": [],
   "source": [
    "lawmaker_df = lawmaker_df[lawmaker_df.year == 2012]\n",
    "lawmaker_df = lawmaker_df[[\"minvalue\",\"maxvalue\",\"avgvalue\",\"chamber\"]]"
   ]
  },
  {
   "cell_type": "code",
   "execution_count": 7,
   "metadata": {},
   "outputs": [
    {
     "data": {
      "text/html": [
       "<div>\n",
       "<style>\n",
       "    .dataframe thead tr:only-child th {\n",
       "        text-align: right;\n",
       "    }\n",
       "\n",
       "    .dataframe thead th {\n",
       "        text-align: left;\n",
       "    }\n",
       "\n",
       "    .dataframe tbody tr th {\n",
       "        vertical-align: top;\n",
       "    }\n",
       "</style>\n",
       "<table border=\"1\" class=\"dataframe\">\n",
       "  <thead>\n",
       "    <tr style=\"text-align: right;\">\n",
       "      <th></th>\n",
       "      <th>minvalue</th>\n",
       "      <th>maxvalue</th>\n",
       "      <th>avgvalue</th>\n",
       "      <th>chamber</th>\n",
       "    </tr>\n",
       "  </thead>\n",
       "  <tbody>\n",
       "    <tr>\n",
       "      <th>0</th>\n",
       "      <td>330380031.0</td>\n",
       "      <td>597850005.0</td>\n",
       "      <td>464115018.0</td>\n",
       "      <td>House</td>\n",
       "    </tr>\n",
       "    <tr>\n",
       "      <th>1</th>\n",
       "      <td>276478025.0</td>\n",
       "      <td>383347994.0</td>\n",
       "      <td>329913009.0</td>\n",
       "      <td>Senate</td>\n",
       "    </tr>\n",
       "    <tr>\n",
       "      <th>2</th>\n",
       "      <td>96221316.0</td>\n",
       "      <td>418742000.0</td>\n",
       "      <td>257481658.0</td>\n",
       "      <td>Senate</td>\n",
       "    </tr>\n",
       "    <tr>\n",
       "      <th>3</th>\n",
       "      <td>184659550.0</td>\n",
       "      <td>288525063.0</td>\n",
       "      <td>236592306.0</td>\n",
       "      <td>Executive</td>\n",
       "    </tr>\n",
       "    <tr>\n",
       "      <th>4</th>\n",
       "      <td>69791412.0</td>\n",
       "      <td>326099998.0</td>\n",
       "      <td>197945705.0</td>\n",
       "      <td>House</td>\n",
       "    </tr>\n",
       "  </tbody>\n",
       "</table>\n",
       "</div>"
      ],
      "text/plain": [
       "      minvalue     maxvalue     avgvalue    chamber\n",
       "0  330380031.0  597850005.0  464115018.0      House\n",
       "1  276478025.0  383347994.0  329913009.0     Senate\n",
       "2   96221316.0  418742000.0  257481658.0     Senate\n",
       "3  184659550.0  288525063.0  236592306.0  Executive\n",
       "4   69791412.0  326099998.0  197945705.0      House"
      ]
     },
     "execution_count": 7,
     "metadata": {},
     "output_type": "execute_result"
    }
   ],
   "source": [
    "lawmaker_df.head()"
   ]
  },
  {
   "cell_type": "code",
   "execution_count": 8,
   "metadata": {},
   "outputs": [
    {
     "data": {
      "text/plain": [
       "House        516\n",
       "Senate       113\n",
       "Executive     12\n",
       "Judicial       1\n",
       "Name: chamber, dtype: int64"
      ]
     },
     "execution_count": 8,
     "metadata": {},
     "output_type": "execute_result"
    }
   ],
   "source": [
    "lawmaker_df.chamber.value_counts()"
   ]
  },
  {
   "cell_type": "code",
   "execution_count": 9,
   "metadata": {
    "collapsed": true
   },
   "outputs": [],
   "source": [
    "house_exec = lawmaker_df[(lawmaker_df.chamber == \"House\") | (lawmaker_df.chamber == \"Senate\")]"
   ]
  },
  {
   "cell_type": "code",
   "execution_count": 10,
   "metadata": {},
   "outputs": [
    {
     "data": {
      "text/html": [
       "<div>\n",
       "<style>\n",
       "    .dataframe thead tr:only-child th {\n",
       "        text-align: right;\n",
       "    }\n",
       "\n",
       "    .dataframe thead th {\n",
       "        text-align: left;\n",
       "    }\n",
       "\n",
       "    .dataframe tbody tr th {\n",
       "        vertical-align: top;\n",
       "    }\n",
       "</style>\n",
       "<table border=\"1\" class=\"dataframe\">\n",
       "  <thead>\n",
       "    <tr style=\"text-align: right;\">\n",
       "      <th></th>\n",
       "      <th>minvalue</th>\n",
       "      <th>maxvalue</th>\n",
       "      <th>avgvalue</th>\n",
       "      <th>chamber</th>\n",
       "    </tr>\n",
       "  </thead>\n",
       "  <tbody>\n",
       "    <tr>\n",
       "      <th>0</th>\n",
       "      <td>330380031.0</td>\n",
       "      <td>597850005.0</td>\n",
       "      <td>464115018.0</td>\n",
       "      <td>House</td>\n",
       "    </tr>\n",
       "    <tr>\n",
       "      <th>1</th>\n",
       "      <td>276478025.0</td>\n",
       "      <td>383347994.0</td>\n",
       "      <td>329913009.0</td>\n",
       "      <td>Senate</td>\n",
       "    </tr>\n",
       "    <tr>\n",
       "      <th>2</th>\n",
       "      <td>96221316.0</td>\n",
       "      <td>418742000.0</td>\n",
       "      <td>257481658.0</td>\n",
       "      <td>Senate</td>\n",
       "    </tr>\n",
       "    <tr>\n",
       "      <th>4</th>\n",
       "      <td>69791412.0</td>\n",
       "      <td>326099998.0</td>\n",
       "      <td>197945705.0</td>\n",
       "      <td>House</td>\n",
       "    </tr>\n",
       "    <tr>\n",
       "      <th>5</th>\n",
       "      <td>65151162.0</td>\n",
       "      <td>244051998.0</td>\n",
       "      <td>154601580.0</td>\n",
       "      <td>House</td>\n",
       "    </tr>\n",
       "  </tbody>\n",
       "</table>\n",
       "</div>"
      ],
      "text/plain": [
       "      minvalue     maxvalue     avgvalue chamber\n",
       "0  330380031.0  597850005.0  464115018.0   House\n",
       "1  276478025.0  383347994.0  329913009.0  Senate\n",
       "2   96221316.0  418742000.0  257481658.0  Senate\n",
       "4   69791412.0  326099998.0  197945705.0   House\n",
       "5   65151162.0  244051998.0  154601580.0   House"
      ]
     },
     "execution_count": 10,
     "metadata": {},
     "output_type": "execute_result"
    }
   ],
   "source": [
    "house_exec.head()"
   ]
  },
  {
   "cell_type": "code",
   "execution_count": 12,
   "metadata": {},
   "outputs": [
    {
     "data": {
      "text/plain": [
       "<matplotlib.text.Text at 0x1e7c0f4a278>"
      ]
     },
     "execution_count": 12,
     "metadata": {},
     "output_type": "execute_result"
    },
    {
     "data": {
      "image/png": "[encoded data removed]",
      "text/plain": [
       "<matplotlib.figure.Figure at 0x1e7c0d51cf8>"
      ]
     },
     "metadata": {},
     "output_type": "display_data"
    }
   ],
   "source": [
    "sns.lmplot(\"minvalue\", \"maxvalue\", hue = \"chamber\", fit_reg = False, data = house_exec)\n",
    "plt.xlabel(\"Minimum Net Worth\")\n",
    "plt.ylabel(\"Maximum Net Worth\")\n",
    "plt.title(\"Min/Max Networth of Lawmakers\")\n",
    "#plt.savefig(\"output/LawmakerScatterplot.png\", format = \"PNG\") -- Save the plot"
   ]
  },
  {
   "cell_type": "code",
   "execution_count": 13,
   "metadata": {
    "collapsed": true
   },
   "outputs": [],
   "source": [
    "X, y = house_exec[[\"minvalue\", \"maxvalue\"]], house_exec[\"chamber\"]"
   ]
  },
  {
   "cell_type": "code",
   "execution_count": 40,
   "metadata": {},
   "outputs": [
    {
     "data": {
      "text/plain": [
       "array(['House', 'House', 'House', 'House', 'House', 'House', 'House',\n",
       "       'House', 'House', 'House', 'House', 'House', 'House', 'House',\n",
       "       'House', 'House', 'House', 'House', 'House', 'House', 'House',\n",
       "       'House', 'House', 'House', 'House', 'House', 'House', 'House',\n",
       "       'House', 'House', 'House', 'House', 'House', 'House', 'House',\n",
       "       'House', 'House', 'House', 'House', 'House', 'House', 'House',\n",
       "       'House', 'House', 'House', 'House', 'House', 'House', 'House',\n",
       "       'House', 'House', 'House', 'House', 'House', 'House', 'House',\n",
       "       'House', 'House', 'House', 'House', 'House', 'House', 'House',\n",
       "       'House', 'House', 'House', 'House', 'House', 'House', 'House',\n",
       "       'House', 'House', 'House', 'House', 'House', 'House', 'House',\n",
       "       'House', 'House', 'House', 'House', 'House', 'House', 'House',\n",
       "       'House', 'House', 'House', 'House', 'House', 'House', 'House',\n",
       "       'House', 'House', 'House', 'House', 'House', 'House', 'House',\n",
       "       'House', 'House', 'House', 'House', 'House', 'House', 'House',\n",
       "       'House', 'House', 'House', 'House', 'House', 'House', 'House',\n",
       "       'House', 'House', 'House', 'House', 'House', 'House', 'House',\n",
       "       'House', 'House', 'House', 'House', 'House', 'House', 'House',\n",
       "       'House', 'House', 'House', 'House', 'House', 'House', 'House',\n",
       "       'House', 'House', 'House', 'House', 'House', 'House', 'House',\n",
       "       'House', 'House', 'House', 'House', 'House', 'House', 'House',\n",
       "       'House', 'House', 'House', 'House', 'House', 'House', 'House',\n",
       "       'House', 'House', 'House', 'House', 'House', 'House', 'House',\n",
       "       'House', 'House', 'House', 'House', 'House', 'House', 'House',\n",
       "       'House', 'House', 'House', 'House', 'House', 'House', 'House',\n",
       "       'House', 'House', 'House', 'House', 'House', 'House', 'House',\n",
       "       'House', 'House', 'House', 'House', 'House', 'House', 'House',\n",
       "       'House', 'House', 'House', 'House', 'House', 'House', 'House',\n",
       "       'House', 'House', 'House', 'House', 'House', 'House', 'House',\n",
       "       'House', 'House', 'House', 'House', 'House', 'House', 'House',\n",
       "       'House', 'House', 'House', 'House', 'House', 'House', 'House',\n",
       "       'House', 'House', 'House', 'House', 'House', 'House', 'House',\n",
       "       'House', 'House', 'House', 'House', 'House', 'House', 'House',\n",
       "       'House', 'House', 'House', 'House', 'House', 'House', 'House',\n",
       "       'House', 'House', 'House', 'House', 'House', 'House', 'House',\n",
       "       'House', 'House', 'House', 'House', 'House', 'House', 'House',\n",
       "       'House', 'House', 'House', 'House', 'House', 'House', 'House',\n",
       "       'House', 'House', 'House', 'House', 'House', 'House', 'House',\n",
       "       'House', 'House', 'House', 'House', 'House', 'House', 'House',\n",
       "       'House', 'House', 'House', 'House', 'House', 'House', 'House',\n",
       "       'House', 'House', 'House', 'House', 'House', 'House', 'House',\n",
       "       'House', 'House', 'House', 'House', 'House', 'House', 'House',\n",
       "       'House', 'House', 'House', 'House', 'House', 'House', 'House',\n",
       "       'House', 'House', 'House', 'House', 'House', 'House', 'House',\n",
       "       'House', 'House', 'House', 'House', 'House', 'House', 'House',\n",
       "       'House', 'House', 'House', 'House', 'House', 'House', 'House',\n",
       "       'House', 'House', 'House', 'House', 'House', 'House', 'House',\n",
       "       'House', 'House', 'House', 'House', 'House', 'House', 'House',\n",
       "       'House', 'House', 'House', 'House', 'House', 'House', 'House',\n",
       "       'House', 'House', 'House', 'House', 'House', 'House', 'House',\n",
       "       'House', 'House', 'House', 'House', 'House', 'House', 'House',\n",
       "       'House', 'House', 'House', 'House', 'House', 'House', 'House',\n",
       "       'House', 'House', 'House', 'House', 'House', 'House', 'House',\n",
       "       'House', 'House', 'House', 'House', 'House', 'House', 'House',\n",
       "       'House', 'House', 'House', 'House', 'House', 'House', 'House',\n",
       "       'House', 'House', 'House', 'House', 'House', 'House', 'House',\n",
       "       'House', 'House', 'House', 'House', 'House', 'House', 'House',\n",
       "       'House', 'House', 'House', 'House', 'House', 'House', 'House',\n",
       "       'House', 'House', 'House', 'House', 'House', 'House', 'House',\n",
       "       'House', 'House', 'House', 'House', 'House', 'House', 'House',\n",
       "       'House', 'House', 'House', 'House', 'House', 'House', 'House',\n",
       "       'House', 'House', 'House', 'House', 'House', 'House', 'House',\n",
       "       'House', 'House', 'House', 'House', 'House', 'House', 'House',\n",
       "       'House', 'House', 'House', 'House', 'House', 'House', 'House',\n",
       "       'House', 'House', 'House', 'House', 'House', 'House', 'House',\n",
       "       'House', 'House', 'House', 'House', 'House', 'House', 'House',\n",
       "       'House', 'House', 'House', 'House', 'House', 'House', 'House',\n",
       "       'House', 'House', 'House', 'House', 'House', 'House', 'House',\n",
       "       'House', 'House', 'House', 'House', 'House', 'House', 'House',\n",
       "       'House', 'House', 'House', 'House', 'House', 'House', 'House',\n",
       "       'House', 'House', 'House', 'House', 'House', 'House', 'House',\n",
       "       'House', 'House', 'House', 'House', 'House', 'House', 'House',\n",
       "       'House', 'House', 'House', 'House', 'House', 'House', 'House',\n",
       "       'House', 'House', 'House', 'House', 'House', 'Senate', 'Senate',\n",
       "       'Senate', 'Senate', 'Senate', 'Senate', 'Senate', 'Senate',\n",
       "       'Senate', 'Senate', 'Senate', 'Senate', 'Senate', 'Senate',\n",
       "       'Senate', 'Senate', 'Senate', 'Senate', 'Senate', 'Senate',\n",
       "       'Senate', 'Senate', 'Senate', 'Senate', 'Senate'], dtype=object)"
      ]
     },
     "execution_count": 40,
     "metadata": {},
     "output_type": "execute_result"
    }
   ],
   "source": [
    "X_resampled, y_resampled = make_imbalance(X,y, ratio = 0.05, min_c_ = \"Senate\", random_state = 249)\n",
    "\n"
   ]
  },
  {
   "cell_type": "code",
   "execution_count": 31,
   "metadata": {
    "collapsed": true
   },
   "outputs": [],
   "source": [
    "df_ = pd.DataFrame()\n",
    "df_[\"minvalue\"] = X_resampled[:,0]\n",
    "df_[\"maxvalue\"] = X_resampled[:,1]\n",
    "df_[\"chamber\"] = y_resampled"
   ]
  },
  {
   "cell_type": "code",
   "execution_count": 32,
   "metadata": {},
   "outputs": [
    {
     "data": {
      "text/plain": [
       "House     516\n",
       "Senate     25\n",
       "Name: chamber, dtype: int64"
      ]
     },
     "execution_count": 32,
     "metadata": {},
     "output_type": "execute_result"
    }
   ],
   "source": [
    "df_.chamber.value_counts()"
   ]
  },
  {
   "cell_type": "code",
   "execution_count": 33,
   "metadata": {},
   "outputs": [
    {
     "data": {
      "text/plain": [
       "<matplotlib.text.Text at 0x1e7c1019128>"
      ]
     },
     "execution_count": 33,
     "metadata": {},
     "output_type": "execute_result"
    },
    {
     "data": {
      "image/png": "[encoded data removed]",
      "text/plain": [
       "<matplotlib.figure.Figure at 0x1e7c0fb2d30>"
      ]
     },
     "metadata": {},
     "output_type": "display_data"
    }
   ],
   "source": [
    "sns.lmplot(\"minvalue\", \"maxvalue\", hue = \"chamber\", fit_reg = False, data = df_)\n",
    "plt.xlabel(\"Minimum Net Worth\")\n",
    "plt.ylabel(\"Maximum Net Worth\")\n",
    "plt.title(\"Min/Max Value of Lawmakers - Imbalanced\")\n",
    "#plt.savefig(\"output/LawmakerImbalanced.png\", format = \"PNG\")"
   ]
  },
  {
   "cell_type": "code",
   "execution_count": 34,
   "metadata": {
    "collapsed": true
   },
   "outputs": [],
   "source": [
    "from imblearn.over_sampling import SMOTE"
   ]
  },
  {
   "cell_type": "code",
   "execution_count": 35,
   "metadata": {
    "collapsed": true
   },
   "outputs": [],
   "source": [
    "smote = SMOTE(kind = \"regular\")\n",
    "X_sm, y_sm = smote.fit_sample(X_resampled, y_resampled)"
   ]
  },
  {
   "cell_type": "code",
   "execution_count": 36,
   "metadata": {},
   "outputs": [
    {
     "data": {
      "text/plain": [
       "<matplotlib.text.Text at 0x1e7c0b84898>"
      ]
     },
     "execution_count": 36,
     "metadata": {},
     "output_type": "execute_result"
    },
    {
     "data": {
      "image/png": "[encoded data removed]",
      "text/plain": [
       "<matplotlib.figure.Figure at 0x1e7c10a3fd0>"
      ]
     },
     "metadata": {},
     "output_type": "display_data"
    }
   ],
   "source": [
    "plt.scatter(X_sm[y_sm == \"House\",0], X_sm[y_sm == \"House\",1], label = \"House\", c= \"r\", alpha = 0.5)\n",
    "plt.scatter(X_sm[y_sm == \"Senate\",0], X_sm[y_sm == \"Senate\",1], label = \"Senate\", alpha = 0.5)\n",
    "plt.xlabel(\"Minimum Net Worth\")\n",
    "plt.ylabel(\"Maximum Net Worth\")\n",
    "plt.legend()\n",
    "plt.title(\"Min/Max Value of Lawmakers - SMOTE\")\n",
    "#plt.savefig(\"output/LawmakerSMOTE.png\", format = \"PNG\")"
   ]
  },
  {
   "cell_type": "code",
   "execution_count": 37,
   "metadata": {
    "collapsed": true
   },
   "outputs": [],
   "source": [
    "df_ = pd.DataFrame()\n",
    "df_[\"minvalue\"] = X_sm[:,0]\n",
    "df_[\"maxvalue\"] = X_sm[:,1]\n",
    "df_[\"chamber\"] = y_sm"
   ]
  },
  {
   "cell_type": "code",
   "execution_count": 38,
   "metadata": {},
   "outputs": [
    {
     "data": {
      "text/plain": [
       "House     516\n",
       "Senate    516\n",
       "Name: chamber, dtype: int64"
      ]
     },
     "execution_count": 38,
     "metadata": {},
     "output_type": "execute_result"
    }
   ],
   "source": [
    "df_.chamber.value_counts()"
   ]
  },
  {
   "cell_type": "code",
   "execution_count": null,
   "metadata": {
    "collapsed": true
   },
   "outputs": [],
   "source": []
  }
 ],
 "metadata": {
  "kernelspec": {
   "display_name": "Python 3",
   "language": "python",
   "name": "python3"
  },
  "language_info": {
   "codemirror_mode": {
    "name": "ipython",
    "version": 3
   },
   "file_extension": ".py",
   "mimetype": "text/x-python",
   "name": "python",
   "nbconvert_exporter": "python",
   "pygments_lexer": "ipython3",
   "version": "3.6.1"
  }
 },
 "nbformat": 4,
 "nbformat_minor": 2
}
