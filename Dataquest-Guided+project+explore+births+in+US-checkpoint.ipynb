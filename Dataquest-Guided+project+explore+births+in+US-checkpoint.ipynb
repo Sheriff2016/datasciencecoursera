{
 "cells": [
  {
   "cell_type": "code",
   "execution_count": 5,
   "metadata": {
    "scrolled": true
   },
   "outputs": [
    {
     "data": {
      "text/plain": [
       "'C:\\\\Users\\\\S719789'"
      ]
     },
     "execution_count": 5,
     "metadata": {},
     "output_type": "execute_result"
    }
   ],
   "source": [
    "%pwd # To check the current working directory"
   ]
  },
  {
   "cell_type": "code",
   "execution_count": 6,
   "metadata": {
    "collapsed": true
   },
   "outputs": [],
   "source": [
    "# Set working directory\n",
    "import os\n",
    "os.chdir('C:\\\\Users\\\\S719789\\\\Desktop\\\\Data Science\\\\Dataquest\\\\Step 1\\Guided Project_ Explore U.S. Births')"
   ]
  },
  {
   "cell_type": "code",
   "execution_count": 7,
   "metadata": {},
   "outputs": [
    {
     "name": "stdout",
     "output_type": "stream",
     "text": [
      "['year,month,date_of_month,day_of_week,births', '1994,1,1,6,8096', '1994,1,2,7,7772', '1994,1,3,1,10142', '1994,1,4,2,11248', '1994,1,5,3,11053', '1994,1,6,4,11406', '1994,1,7,5,11251', '1994,1,8,6,8653', '1994,1,9,7,7910']\n",
      "['1994,1,1,6,8096', '1994,1,2,7,7772', '1994,1,3,1,10142', '1994,1,4,2,11248', '1994,1,5,3,11053', '1994,1,6,4,11406', '1994,1,7,5,11251', '1994,1,8,6,8653', '1994,1,9,7,7910', '1994,1,10,1,10498']\n"
     ]
    }
   ],
   "source": [
    "# Read the file \n",
    "f = open(\"US_births_1994-2003_CDC_NCHS.csv\",'r')\n",
    "text = f.read()\n",
    "data_list = text.split('\\n')\n",
    "data_no_header = data_list[1:len(data_list)] \n",
    "print(data_list[0:10])\n",
    "print(data_no_header[0:10])"
   ]
  },
  {
   "cell_type": "code",
   "execution_count": 8,
   "metadata": {
    "collapsed": true
   },
   "outputs": [],
   "source": [
    "# Funtion to read csv file and manipulate\n",
    "def read_csv(file):\n",
    "    f=open(file,'r')\n",
    "    text = f.read()\n",
    "    data_list = text.split('\\n')\n",
    "    string_list  = data_list[1:len(data_list)]\n",
    "    final_list =[]\n",
    "    \n",
    "    for line in string_list:\n",
    "        string_fields = line.split(',')\n",
    "        int_fields = []\n",
    "        for value in string_fields:\n",
    "            int_fields.append(int(value))\n",
    "        final_list.append(int_fields)\n",
    "    return final_list"
   ]
  },
  {
   "cell_type": "code",
   "execution_count": 9,
   "metadata": {
    "collapsed": true
   },
   "outputs": [],
   "source": [
    "# Read the file using our function\n",
    "cdc_list = read_csv(\"US_births_1994-2003_CDC_NCHS.csv\")\n",
    "#print(birth_list)\n"
   ]
  },
  {
   "cell_type": "code",
   "execution_count": 10,
   "metadata": {
    "collapsed": true
   },
   "outputs": [],
   "source": [
    "# Function to calculate the no.of birth monthwise across years\n",
    "def month_births(input_lst):\n",
    "    births_per_month = {}\n",
    "    for line in input_lst:\n",
    "        month = line[1]\n",
    "        birth_count = int(line[4])\n",
    "        if month in births_per_month:\n",
    "           births_per_month[month]+=birth_count\n",
    "        else:\n",
    "           births_per_month[month]=birth_count \n",
    "    return(births_per_month)"
   ]
  },
  {
   "cell_type": "code",
   "execution_count": 11,
   "metadata": {},
   "outputs": [
    {
     "name": "stdout",
     "output_type": "stream",
     "text": [
      "{1: 3232517, 2: 3018140, 3: 3322069, 4: 3185314, 5: 3350907, 6: 3296530, 7: 3498783, 8: 3525858, 9: 3439698, 10: 3378814, 11: 3171647, 12: 3301860}\n"
     ]
    }
   ],
   "source": [
    "cdc_month_births = month_births(cdc_list)\n",
    "print(cdc_month_births)"
   ]
  },
  {
   "cell_type": "code",
   "execution_count": 12,
   "metadata": {
    "collapsed": true
   },
   "outputs": [],
   "source": [
    "# Generic function to calculate the no. of birth based on the parameter (month,year,dayofweek)\n",
    "# data : a list of lists, column: the column number we want to calculate the totals for\n",
    "def calc_counts(data,column):\n",
    "    birth_per_column = {}\n",
    "    for line in data:\n",
    "       col = line[column]\n",
    "       birth_count = int(line[4])\n",
    "       if col in birth_per_column:\n",
    "          birth_per_column[col]+=birth_count\n",
    "       else:\n",
    "          birth_per_column[col]=birth_count\n",
    "    return(birth_per_column)"
   ]
  },
  {
   "cell_type": "code",
   "execution_count": 13,
   "metadata": {},
   "outputs": [
    {
     "name": "stdout",
     "output_type": "stream",
     "text": [
      "{1994: 3952767, 1995: 3899589, 1996: 3891494, 1997: 3880894, 1998: 3941553, 1999: 3959417, 2000: 4058814, 2001: 4025933, 2002: 4021726, 2003: 4089950}\n"
     ]
    }
   ],
   "source": [
    "# Year wise count\n",
    "cdc_year_births = calc_counts(cdc_list,0)\n",
    "print(cdc_year_births)"
   ]
  },
  {
   "cell_type": "code",
   "execution_count": 14,
   "metadata": {},
   "outputs": [
    {
     "name": "stdout",
     "output_type": "stream",
     "text": [
      "{1: 3232517, 2: 3018140, 3: 3322069, 4: 3185314, 5: 3350907, 6: 3296530, 7: 3498783, 8: 3525858, 9: 3439698, 10: 3378814, 11: 3171647, 12: 3301860}\n"
     ]
    }
   ],
   "source": [
    "# Month wise count\n",
    "cdc_month_births = calc_counts(cdc_list,1)\n",
    "print(cdc_month_births)"
   ]
  },
  {
   "cell_type": "code",
   "execution_count": 15,
   "metadata": {},
   "outputs": [
    {
     "name": "stdout",
     "output_type": "stream",
     "text": [
      "{1: 1276557, 2: 1288739, 3: 1304499, 4: 1288154, 5: 1299953, 6: 1304474, 7: 1310459, 8: 1312297, 9: 1303292, 10: 1320764, 11: 1314361, 12: 1318437, 13: 1277684, 14: 1320153, 15: 1319171, 16: 1315192, 17: 1324953, 18: 1326855, 19: 1318727, 20: 1324821, 21: 1322897, 22: 1317381, 23: 1293290, 24: 1288083, 25: 1272116, 26: 1284796, 27: 1294395, 28: 1307685, 29: 1223161, 30: 1202095, 31: 746696}\n"
     ]
    }
   ],
   "source": [
    "# Day of month wise count\n",
    "cdc_dom_births = calc_counts(cdc_list,2)\n",
    "print(cdc_dom_births)"
   ]
  },
  {
   "cell_type": "code",
   "execution_count": 16,
   "metadata": {},
   "outputs": [
    {
     "name": "stdout",
     "output_type": "stream",
     "text": [
      "{6: 4562111, 7: 4079723, 1: 5789166, 2: 6446196, 3: 6322855, 4: 6288429, 5: 6233657}\n"
     ]
    }
   ],
   "source": [
    "# Day of week wise count\n",
    "cdc_dow_births = calc_counts(cdc_list,3)\n",
    "print(cdc_dow_births)\n",
    "# Iterate the dictionary and print both key and value\n",
    "for rec in cdc_dow_births:\n",
    "    print (rec, cdc_dow_births[rec])"
   ]
  },
  {
   "cell_type": "code",
   "execution_count": 22,
   "metadata": {},
   "outputs": [
    {
     "name": "stdout",
     "output_type": "stream",
     "text": [
      "6 4562111\n",
      "7 4079723\n",
      "1 5789166\n",
      "2 6446196\n",
      "3 6322855\n",
      "4 6288429\n",
      "5 6233657\n"
     ]
    },
    {
     "data": {
      "text/plain": [
       "5789166"
      ]
     },
     "execution_count": 22,
     "metadata": {},
     "output_type": "execute_result"
    }
   ],
   "source": [
    "for rec in cdc_dow_births:\n",
    "    print (rec, cdc_dow_births[rec])\n",
    "cdc_dow_births[1]"
   ]
  },
  {
   "cell_type": "code",
   "execution_count": 31,
   "metadata": {},
   "outputs": [],
   "source": [
    "def max_min(input_dict,max,min):\n",
    "    maxi = input_dict[1]\n",
    "    mini = input_dict[1]\n",
    "    for rec in input_dict:\n",
    "        if input_dict[rec] > maxi:\n",
    "           maxi = input_dict[rec]\n",
    "    return(maxi)"
   ]
  },
  {
   "cell_type": "code",
   "execution_count": 32,
   "metadata": {},
   "outputs": [
    {
     "data": {
      "text/plain": [
       "6446196"
      ]
     },
     "execution_count": 32,
     "metadata": {},
     "output_type": "execute_result"
    }
   ],
   "source": [
    "max_min(cdc_dow_births)"
   ]
  },
  {
   "cell_type": "code",
   "execution_count": null,
   "metadata": {
    "collapsed": true
   },
   "outputs": [],
   "source": []
  }
 ],
 "metadata": {
  "kernelspec": {
   "display_name": "Python 3",
   "language": "python",
   "name": "python3"
  },
  "language_info": {
   "codemirror_mode": {
    "name": "ipython",
    "version": 3
   },
   "file_extension": ".py",
   "mimetype": "text/x-python",
   "name": "python",
   "nbconvert_exporter": "python",
   "pygments_lexer": "ipython3",
   "version": "3.6.1"
  }
 },
 "nbformat": 4,
 "nbformat_minor": 2
}
