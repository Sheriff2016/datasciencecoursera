{
 "cells": [
  {
   "cell_type": "code",
   "execution_count": 36,
   "metadata": {},
   "outputs": [
    {
     "name": "stdout",
     "output_type": "stream",
     "text": [
      "[ 5 10 15 20]\n",
      "[[ 5 10 15]\n",
      " [20 25 30]\n",
      " [35 40 45]]\n"
     ]
    }
   ],
   "source": [
    "# Getting started with NumPy\n",
    "# Sample\n",
    "import numpy as np\n",
    "a = [5, 10, 15, 20]\n",
    "b = [[5, 10, 15], [20, 25, 30], [35, 40, 45]]\n",
    "vector = np.array([5, 10, 15, 20])\n",
    "matrix = np.array([[5, 10, 15], [20, 25, 30], [35, 40, 45]])\n",
    "#print(a)\n",
    "#print(b)\n",
    "print(vector)\n",
    "print(matrix)\n"
   ]
  },
  {
   "cell_type": "code",
   "execution_count": 37,
   "metadata": {},
   "outputs": [
    {
     "name": "stdout",
     "output_type": "stream",
     "text": [
      "[10 20 30]\n",
      "[[ 5 10 15]\n",
      " [20 25 30]\n",
      " [35 40 45]]\n"
     ]
    }
   ],
   "source": [
    "# Sample 1\n",
    "import numpy as np\n",
    "vector = np.array([10, 20, 30])\n",
    "matrix = np.array([[5, 10, 15], [20, 25, 30], [35, 40, 45]])\n",
    "print(vector)\n",
    "print(matrix)"
   ]
  },
  {
   "cell_type": "code",
   "execution_count": 38,
   "metadata": {},
   "outputs": [
    {
     "name": "stdout",
     "output_type": "stream",
     "text": [
      "(4,)\n",
      "(2, 3)\n"
     ]
    }
   ],
   "source": [
    "vector = np.array([1, 2, 3, 4])\n",
    "print(vector.shape)\n",
    "matrix = np.array([[5, 10, 15], [20, 25, 30]])\n",
    "print(matrix.shape)"
   ]
  },
  {
   "cell_type": "code",
   "execution_count": 39,
   "metadata": {},
   "outputs": [
    {
     "name": "stdout",
     "output_type": "stream",
     "text": [
      "(3,)\n",
      "<class 'tuple'>\n",
      "int32\n",
      "(2, 3)\n"
     ]
    }
   ],
   "source": [
    "import numpy as np\n",
    "vector = np.array([10, 20, 30])\n",
    "matrix = np.array([[5, 10, 15], [20, 25, 30]])\n",
    "vector_shape = vector.shape\n",
    "matrix_shape = matrix.shape\n",
    "print(vector_shape)\n",
    "print(type(vector_shape))\n",
    "print(vector.dtype)\n",
    "print(matrix_shape)"
   ]
  },
  {
   "cell_type": "code",
   "execution_count": 63,
   "metadata": {},
   "outputs": [
    {
     "name": "stdout",
     "output_type": "stream",
     "text": [
      "<class 'numpy.ndarray'>\n",
      "float64\n"
     ]
    }
   ],
   "source": [
    "import os\n",
    "import numpy as np\n",
    "os.chdir('C:\\\\Users\\\\S719789\\\\Desktop\\\\Data Science\\\\Dataquest\\\\Step 2\\\\Code_work')\n",
    "world_alcohol = np.genfromtxt(\"world_alcohol.csv\", delimiter=\",\")\n",
    "print(type(world_alcohol))\n",
    "world_alcohol_dtype = world_alcohol.dtype\n",
    "print(world_alcohol_dtype)\n"
   ]
  },
  {
   "cell_type": "code",
   "execution_count": 64,
   "metadata": {},
   "outputs": [
    {
     "name": "stdout",
     "output_type": "stream",
     "text": [
      "[['1986' 'Western Pacific' 'Viet Nam' 'Wine' '0']\n",
      " ['1986' 'Americas' 'Uruguay' 'Other' '0.5']\n",
      " ['1985' 'Africa' \"Cte d'Ivoire\" 'Wine' '1.62']\n",
      " ..., \n",
      " ['1986' 'Europe' 'Switzerland' 'Spirits' '2.54']\n",
      " ['1987' 'Western Pacific' 'Papua New Guinea' 'Other' '0']\n",
      " ['1986' 'Africa' 'Swaziland' 'Other' '5.15']]\n"
     ]
    }
   ],
   "source": [
    "world_alcohol = np.genfromtxt(\"world_alcohol.csv\", delimiter=\",\", dtype=\"U75\", skip_header=1)\n",
    "print(world_alcohol) # first 3 and last 3 lines are displayed"
   ]
  },
  {
   "cell_type": "code",
   "execution_count": 65,
   "metadata": {},
   "outputs": [
    {
     "name": "stdout",
     "output_type": "stream",
     "text": [
      "5\n",
      "15\n",
      "15\n"
     ]
    }
   ],
   "source": [
    "# Refresher on list accessing\n",
    "vector = np.array([5, 10, 15, 20])\n",
    "print(vector[0])\n",
    "list_of_lists = [\n",
    "        [5, 10, 15], \n",
    "        [20, 25, 30]\n",
    "       ]\n",
    "first_item= list_of_lists[0]\n",
    "first_item1 = first_item[2]\n",
    "print(first_item1)\n",
    "print(list_of_lists[0][2])"
   ]
  },
  {
   "cell_type": "code",
   "execution_count": 66,
   "metadata": {},
   "outputs": [
    {
     "name": "stdout",
     "output_type": "stream",
     "text": [
      "0.5\n",
      "Cte d'Ivoire\n"
     ]
    }
   ],
   "source": [
    "uruguay_other_1986 = world_alcohol[1,4]\n",
    "print(uruguay_other_1986)\n",
    "third_country=world_alcohol[2,2]\n",
    "print(third_country)"
   ]
  },
  {
   "cell_type": "code",
   "execution_count": 67,
   "metadata": {},
   "outputs": [
    {
     "name": "stdout",
     "output_type": "stream",
     "text": [
      "[10 25 40]\n",
      "[[ 5 10]\n",
      " [20 25]\n",
      " [35 40]]\n",
      "[[20 25 30]\n",
      " [35 40 45]]\n",
      "[25 40]\n",
      "[[20 25]\n",
      " [35 40]]\n"
     ]
    }
   ],
   "source": [
    "matrix = np.array([\n",
    "                    [5, 10, 15], \n",
    "                    [20, 25, 30],\n",
    "                    [35, 40, 45]\n",
    "                 ])\n",
    "print(matrix[:,1])\n",
    "print(matrix[:,0:2])\n",
    "print(matrix[1:3,:])\n",
    "print(matrix[1:3,1])\n",
    "print(matrix[1:3,0:2])\n"
   ]
  },
  {
   "cell_type": "code",
   "execution_count": 68,
   "metadata": {},
   "outputs": [
    {
     "name": "stdout",
     "output_type": "stream",
     "text": [
      "['Viet Nam' 'Uruguay']\n",
      "['0' '0.5']\n",
      "[['1986' 'Western Pacific']\n",
      " ['1986' 'Americas']\n",
      " ['1985' 'Africa']\n",
      " ..., \n",
      " ['1986' 'Europe']\n",
      " ['1987' 'Western Pacific']\n",
      " ['1986' 'Africa']]\n",
      "['1986' '1986' '1985' '1986' '1987' '1987' '1987' '1985' '1986' '1984']\n",
      "[['1986' 'Western Pacific' 'Viet Nam' 'Wine' '0']\n",
      " ['1986' 'Americas' 'Uruguay' 'Other' '0.5']\n",
      " ['1985' 'Africa' \"Cte d'Ivoire\" 'Wine' '1.62']\n",
      " ['1986' 'Americas' 'Colombia' 'Beer' '4.27']\n",
      " ['1987' 'Americas' 'Saint Kitts and Nevis' 'Beer' '1.98']\n",
      " ['1987' 'Americas' 'Guatemala' 'Other' '0']\n",
      " ['1987' 'Africa' 'Mauritius' 'Wine' '0.13']\n",
      " ['1985' 'Africa' 'Angola' 'Spirits' '0.39']\n",
      " ['1986' 'Americas' 'Antigua and Barbuda' 'Spirits' '1.55']\n",
      " ['1984' 'Africa' 'Nigeria' 'Other' '6.1']]\n",
      "[['Western Pacific' 'Viet Nam']\n",
      " ['Americas' 'Uruguay']\n",
      " ['Africa' \"Cte d'Ivoire\"]\n",
      " ['Americas' 'Colombia']\n",
      " ['Americas' 'Saint Kitts and Nevis']\n",
      " ['Americas' 'Guatemala']\n",
      " ['Africa' 'Mauritius']\n",
      " ['Africa' 'Angola']\n",
      " ['Americas' 'Antigua and Barbuda']\n",
      " ['Africa' 'Nigeria']\n",
      " ['Africa' 'Botswana']\n",
      " ['Americas' 'Guatemala']\n",
      " ['Western Pacific' \"Lao People's Democratic Republic\"]\n",
      " ['Eastern Mediterranean' 'Afghanistan']\n",
      " ['Western Pacific' 'Viet Nam']\n",
      " ['Africa' 'Guinea-Bissau']\n",
      " ['Americas' 'Costa Rica']\n",
      " ['Africa' 'Seychelles']\n",
      " ['Europe' 'Norway']\n",
      " ['Africa' 'Kenya']]\n"
     ]
    }
   ],
   "source": [
    "countries = world_alcohol[:,2]\n",
    "alcohol_consumption = world_alcohol[:,4]\n",
    "print(countries[:2])\n",
    "print(alcohol_consumption[:2])\n",
    "first_two_columns=world_alcohol[:,0:2]\n",
    "first_ten_years =world_alcohol[0:10,0]\n",
    "first_ten_rows =world_alcohol[0:10,:]\n",
    "first_twenty_regions = world_alcohol[0:20,1:3]\n",
    "print(first_two_columns)\n",
    "print(first_ten_years)\n",
    "print(first_ten_rows)\n",
    "print(first_twenty_regions)"
   ]
  },
  {
   "cell_type": "code",
   "execution_count": 69,
   "metadata": {},
   "outputs": [
    {
     "name": "stdout",
     "output_type": "stream",
     "text": [
      "[False  True False False]\n",
      "[[False False False]\n",
      " [False  True False]\n",
      " [False False False]]\n"
     ]
    }
   ],
   "source": [
    "# Computation with NumPy\n",
    "vector = np.array([5, 10, 15, 20])\n",
    "print(vector == 10)\n",
    "matrix = np.array([\n",
    "                    [5, 10, 15], \n",
    "                    [20, 25, 30],\n",
    "                    [35, 40, 45]\n",
    "                 ])\n",
    "print(matrix == 25)"
   ]
  },
  {
   "cell_type": "code",
   "execution_count": 70,
   "metadata": {},
   "outputs": [
    {
     "name": "stdout",
     "output_type": "stream",
     "text": [
      "[False False False ..., False False False]\n",
      "[False False False ..., False False False]\n"
     ]
    }
   ],
   "source": [
    "years_1984 = (world_alcohol[:,0] == \"1984\")\n",
    "countries_canada = (world_alcohol[:,2] == \"Canada\")\n",
    "print(years_1984)\n",
    "print(countries_canada)\n"
   ]
  },
  {
   "cell_type": "code",
   "execution_count": 71,
   "metadata": {},
   "outputs": [
    {
     "name": "stdout",
     "output_type": "stream",
     "text": [
      "[10]\n",
      "[[20 25 30]]\n"
     ]
    }
   ],
   "source": [
    "vector = np.array([5, 10, 15, 20])\n",
    "equal_to_ten = (vector == 10)\n",
    "print(vector[equal_to_ten])\n",
    "matrix = np.array([\n",
    "                [5, 10, 15], \n",
    "                [20, 25, 30],\n",
    "                [35, 40, 45]\n",
    "             ])\n",
    "second_column_25 = (matrix[:,1] == 25)\n",
    "print(matrix[second_column_25, :])"
   ]
  },
  {
   "cell_type": "code",
   "execution_count": 72,
   "metadata": {},
   "outputs": [
    {
     "name": "stdout",
     "output_type": "stream",
     "text": [
      "[['1984' 'Africa' 'Algeria' 'Spirits' '0.01']\n",
      " ['1987' 'Africa' 'Algeria' 'Beer' '0.17']\n",
      " ['1987' 'Africa' 'Algeria' 'Spirits' '0.01']\n",
      " ['1986' 'Africa' 'Algeria' 'Wine' '0.1']\n",
      " ['1984' 'Africa' 'Algeria' 'Other' '0']\n",
      " ['1989' 'Africa' 'Algeria' 'Beer' '0.16']\n",
      " ['1989' 'Africa' 'Algeria' 'Spirits' '0.01']\n",
      " ['1989' 'Africa' 'Algeria' 'Wine' '0.23']\n",
      " ['1986' 'Africa' 'Algeria' 'Spirits' '0.01']\n",
      " ['1984' 'Africa' 'Algeria' 'Wine' '0.12']\n",
      " ['1985' 'Africa' 'Algeria' 'Beer' '0.19']\n",
      " ['1985' 'Africa' 'Algeria' 'Other' '0']\n",
      " ['1986' 'Africa' 'Algeria' 'Beer' '0.18']\n",
      " ['1985' 'Africa' 'Algeria' 'Wine' '0.11']\n",
      " ['1986' 'Africa' 'Algeria' 'Other' '0']\n",
      " ['1989' 'Africa' 'Algeria' 'Other' '0']\n",
      " ['1987' 'Africa' 'Algeria' 'Other' '0']\n",
      " ['1984' 'Africa' 'Algeria' 'Beer' '0.2']\n",
      " ['1985' 'Africa' 'Algeria' 'Spirits' '0.01']\n",
      " ['1987' 'Africa' 'Algeria' 'Wine' '0.1']]\n"
     ]
    }
   ],
   "source": [
    "country_is_algeria  = (world_alcohol[:,2] == \"Algeria\")\n",
    "country_algeria = world_alcohol[country_is_algeria]\n",
    "print(country_algeria)\n"
   ]
  },
  {
   "cell_type": "code",
   "execution_count": 73,
   "metadata": {},
   "outputs": [
    {
     "name": "stdout",
     "output_type": "stream",
     "text": [
      "[False False False False]\n",
      "[ True  True False False]\n"
     ]
    }
   ],
   "source": [
    "vector = np.array([5, 10, 15, 20])\n",
    "equal_to_ten_and_five = (vector == 10) & (vector == 5)\n",
    "print(equal_to_ten_and_five)\n",
    "equal_to_ten_or_five = (vector == 10) | (vector == 5)\n",
    "print(equal_to_ten_or_five)"
   ]
  },
  {
   "cell_type": "code",
   "execution_count": 74,
   "metadata": {},
   "outputs": [
    {
     "name": "stdout",
     "output_type": "stream",
     "text": [
      "[['1986' 'Africa' 'Algeria' 'Wine' '0.1']\n",
      " ['1986' 'Africa' 'Algeria' 'Spirits' '0.01']\n",
      " ['1986' 'Africa' 'Algeria' 'Beer' '0.18']\n",
      " ['1986' 'Africa' 'Algeria' 'Other' '0']]\n"
     ]
    }
   ],
   "source": [
    "is_algeria_and_1986=(world_alcohol[:,0]==\"1986\") & (world_alcohol[:,2]==\"Algeria\")\n",
    "rows_with_algeria_and_1986 = world_alcohol[is_algeria_and_1986,:]\n",
    "print(rows_with_algeria_and_1986)"
   ]
  },
  {
   "cell_type": "code",
   "execution_count": 75,
   "metadata": {},
   "outputs": [
    {
     "name": "stdout",
     "output_type": "stream",
     "text": [
      "[50 50 15 20]\n",
      "[[ 5 10 15]\n",
      " [20 10 30]\n",
      " [35 40 45]]\n"
     ]
    }
   ],
   "source": [
    "vector = np.array([5, 10, 15, 20])\n",
    "equal_to_ten_or_five = (vector == 10) | (vector == 5)\n",
    "vector[equal_to_ten_or_five] = 50\n",
    "print(vector)\n",
    "matrix = np.array([\n",
    "            [5, 10, 15], \n",
    "            [20, 25, 30],\n",
    "            [35, 40, 45]\n",
    "         ])\n",
    "second_column_25 = matrix[:,1] == 25\n",
    "matrix[second_column_25, 1] = 10\n",
    "print(matrix)"
   ]
  },
  {
   "cell_type": "code",
   "execution_count": 53,
   "metadata": {
    "collapsed": true
   },
   "outputs": [],
   "source": [
    "world_alcohol[:,0][world_alcohol[:,0] == '1986'] = '2014'\n",
    "world_alcohol[:,3][world_alcohol[:,3] == 'Wine'] = 'Grog'\n",
    "\n"
   ]
  },
  {
   "cell_type": "code",
   "execution_count": 76,
   "metadata": {},
   "outputs": [
    {
     "name": "stdout",
     "output_type": "stream",
     "text": [
      "[array(['1986', '1986', '1985', ..., '1986', '1987', '1986'], \n",
      "      dtype='<U75')]\n"
     ]
    }
   ],
   "source": [
    "print([world_alcohol[:,0]])"
   ]
  },
  {
   "cell_type": "code",
   "execution_count": 77,
   "metadata": {},
   "outputs": [
    {
     "name": "stdout",
     "output_type": "stream",
     "text": [
      "['1986' '1986' '1986' '1986' '1986' '1986' '1986' '1986' '1986' '1986'\n",
      " '1986' '1986' '1986' '1986' '1986' '1986' '1986' '1986' '1986' '1986'\n",
      " '1986' '1986' '1986' '1986' '1986' '1986' '1986' '1986' '1986' '1986'\n",
      " '1986' '1986' '1986' '1986' '1986' '1986' '1986' '1986' '1986' '1986'\n",
      " '1986' '1986' '1986' '1986' '1986' '1986' '1986' '1986' '1986' '1986'\n",
      " '1986' '1986' '1986' '1986' '1986' '1986' '1986' '1986' '1986' '1986'\n",
      " '1986' '1986' '1986' '1986' '1986' '1986' '1986' '1986' '1986' '1986'\n",
      " '1986' '1986' '1986' '1986' '1986' '1986' '1986' '1986' '1986' '1986'\n",
      " '1986' '1986' '1986' '1986' '1986' '1986' '1986' '1986' '1986' '1986'\n",
      " '1986' '1986' '1986' '1986' '1986' '1986' '1986' '1986' '1986' '1986'\n",
      " '1986' '1986' '1986' '1986' '1986' '1986' '1986' '1986' '1986' '1986'\n",
      " '1986' '1986' '1986' '1986' '1986' '1986' '1986' '1986' '1986' '1986'\n",
      " '1986' '1986' '1986' '1986' '1986' '1986' '1986' '1986' '1986' '1986'\n",
      " '1986' '1986' '1986' '1986' '1986' '1986' '1986' '1986' '1986' '1986'\n",
      " '1986' '1986' '1986' '1986' '1986' '1986' '1986' '1986' '1986' '1986'\n",
      " '1986' '1986' '1986' '1986' '1986' '1986' '1986' '1986' '1986' '1986'\n",
      " '1986' '1986' '1986' '1986' '1986' '1986' '1986' '1986' '1986' '1986'\n",
      " '1986' '1986' '1986' '1986' '1986' '1986' '1986' '1986' '1986' '1986'\n",
      " '1986' '1986' '1986' '1986' '1986' '1986' '1986' '1986' '1986' '1986'\n",
      " '1986' '1986' '1986' '1986' '1986' '1986' '1986' '1986' '1986' '1986'\n",
      " '1986' '1986' '1986' '1986' '1986' '1986' '1986' '1986' '1986' '1986'\n",
      " '1986' '1986' '1986' '1986' '1986' '1986' '1986' '1986' '1986' '1986'\n",
      " '1986' '1986' '1986' '1986' '1986' '1986' '1986' '1986' '1986' '1986'\n",
      " '1986' '1986' '1986' '1986' '1986' '1986' '1986' '1986' '1986' '1986'\n",
      " '1986' '1986' '1986' '1986' '1986' '1986' '1986' '1986' '1986' '1986'\n",
      " '1986' '1986' '1986' '1986' '1986' '1986' '1986' '1986' '1986' '1986'\n",
      " '1986' '1986' '1986' '1986' '1986' '1986' '1986' '1986' '1986' '1986'\n",
      " '1986' '1986' '1986' '1986' '1986' '1986' '1986' '1986' '1986' '1986'\n",
      " '1986' '1986' '1986' '1986' '1986' '1986' '1986' '1986' '1986' '1986'\n",
      " '1986' '1986' '1986' '1986' '1986' '1986' '1986' '1986' '1986' '1986'\n",
      " '1986' '1986' '1986' '1986' '1986' '1986' '1986' '1986' '1986' '1986'\n",
      " '1986' '1986' '1986' '1986' '1986' '1986' '1986' '1986' '1986' '1986'\n",
      " '1986' '1986' '1986' '1986' '1986' '1986' '1986' '1986' '1986' '1986'\n",
      " '1986' '1986' '1986' '1986' '1986' '1986' '1986' '1986' '1986' '1986'\n",
      " '1986' '1986' '1986' '1986' '1986' '1986' '1986' '1986' '1986' '1986'\n",
      " '1986' '1986' '1986' '1986' '1986' '1986' '1986' '1986' '1986' '1986'\n",
      " '1986' '1986' '1986' '1986' '1986' '1986' '1986' '1986' '1986' '1986'\n",
      " '1986' '1986' '1986' '1986' '1986' '1986' '1986' '1986' '1986' '1986'\n",
      " '1986' '1986' '1986' '1986' '1986' '1986' '1986' '1986' '1986' '1986'\n",
      " '1986' '1986' '1986' '1986' '1986' '1986' '1986' '1986' '1986' '1986'\n",
      " '1986' '1986' '1986' '1986' '1986' '1986' '1986' '1986' '1986' '1986'\n",
      " '1986' '1986' '1986' '1986' '1986' '1986' '1986' '1986' '1986' '1986'\n",
      " '1986' '1986' '1986' '1986' '1986' '1986' '1986' '1986' '1986' '1986'\n",
      " '1986' '1986' '1986' '1986' '1986' '1986' '1986' '1986' '1986' '1986'\n",
      " '1986' '1986' '1986' '1986' '1986' '1986' '1986' '1986' '1986' '1986'\n",
      " '1986' '1986' '1986' '1986' '1986' '1986' '1986' '1986' '1986' '1986'\n",
      " '1986' '1986' '1986' '1986' '1986' '1986' '1986' '1986' '1986' '1986'\n",
      " '1986' '1986' '1986' '1986' '1986' '1986' '1986' '1986' '1986' '1986'\n",
      " '1986' '1986' '1986' '1986' '1986' '1986' '1986' '1986' '1986' '1986'\n",
      " '1986' '1986' '1986' '1986' '1986' '1986' '1986' '1986' '1986' '1986'\n",
      " '1986' '1986' '1986' '1986' '1986' '1986' '1986' '1986' '1986' '1986'\n",
      " '1986' '1986' '1986' '1986' '1986' '1986' '1986' '1986' '1986' '1986'\n",
      " '1986' '1986' '1986' '1986' '1986' '1986' '1986' '1986' '1986' '1986'\n",
      " '1986' '1986' '1986' '1986' '1986' '1986' '1986' '1986' '1986' '1986'\n",
      " '1986' '1986' '1986' '1986' '1986' '1986' '1986' '1986' '1986' '1986'\n",
      " '1986' '1986' '1986' '1986' '1986' '1986' '1986' '1986' '1986' '1986'\n",
      " '1986' '1986' '1986' '1986' '1986' '1986' '1986' '1986' '1986' '1986'\n",
      " '1986' '1986' '1986' '1986' '1986' '1986' '1986' '1986' '1986' '1986'\n",
      " '1986' '1986' '1986' '1986' '1986' '1986' '1986' '1986' '1986' '1986'\n",
      " '1986' '1986' '1986' '1986' '1986' '1986' '1986' '1986' '1986' '1986'\n",
      " '1986' '1986' '1986' '1986' '1986' '1986' '1986' '1986' '1986' '1986'\n",
      " '1986' '1986' '1986' '1986' '1986' '1986' '1986' '1986' '1986' '1986'\n",
      " '1986' '1986' '1986' '1986' '1986' '1986' '1986' '1986' '1986' '1986'\n",
      " '1986' '1986' '1986' '1986' '1986' '1986' '1986' '1986' '1986' '1986'\n",
      " '1986' '1986' '1986' '1986' '1986' '1986' '1986' '1986' '1986' '1986'\n",
      " '1986']\n"
     ]
    }
   ],
   "source": [
    "print(world_alcohol[:,0][world_alcohol[:,0] == '1986'])"
   ]
  },
  {
   "cell_type": "code",
   "execution_count": 78,
   "metadata": {},
   "outputs": [
    {
     "name": "stdout",
     "output_type": "stream",
     "text": [
      "[['1985' 'Africa' 'Comoros' 'Other' '']\n",
      " ['1986' 'Europe' 'Italy' 'Other' '']\n",
      " ['1985' 'Europe' 'Lithuania' 'Other' '']\n",
      " ..., \n",
      " ['1984' 'Europe' 'Czech Republic' 'Other' '']\n",
      " ['1987' 'Americas' 'Canada' 'Other' '']\n",
      " ['1986' 'Europe' 'Poland' 'Other' '']]\n",
      "[['1985' 'Africa' 'Comoros' 'Other' '0']\n",
      " ['1986' 'Europe' 'Italy' 'Other' '0']\n",
      " ['1985' 'Europe' 'Lithuania' 'Other' '0']\n",
      " ..., \n",
      " ['1984' 'Europe' 'Czech Republic' 'Other' '0']\n",
      " ['1987' 'Americas' 'Canada' 'Other' '0']\n",
      " ['1986' 'Europe' 'Poland' 'Other' '0']]\n"
     ]
    }
   ],
   "source": [
    "is_value_empty=world_alcohol[:,4]==''\n",
    "print(world_alcohol[is_value_empty])\n",
    "world_alcohol[is_value_empty, 4] = '0'\n",
    "print(world_alcohol[is_value_empty])"
   ]
  },
  {
   "cell_type": "code",
   "execution_count": 79,
   "metadata": {},
   "outputs": [
    {
     "name": "stdout",
     "output_type": "stream",
     "text": [
      "[ 1.  2.  3.]\n"
     ]
    }
   ],
   "source": [
    "vector = np.array([\"1\", \"2\", \"3\"])\n",
    "vector = vector.astype(float)\n",
    "print(vector)"
   ]
  },
  {
   "cell_type": "code",
   "execution_count": 80,
   "metadata": {},
   "outputs": [
    {
     "name": "stdout",
     "output_type": "stream",
     "text": [
      "[ 0.    0.5   1.62 ...,  2.54  0.    5.15]\n",
      "3908.96\n",
      "1.20017193737\n"
     ]
    }
   ],
   "source": [
    "alcohol_consumption = world_alcohol[:,4]\n",
    "alcohol_consumption = alcohol_consumption.astype(float)\n",
    "print(alcohol_consumption)\n",
    "total_alcohol = alcohol_consumption.sum()\n",
    "average_alcohol = alcohol_consumption.mean()\n",
    "print(total_alcohol)\n",
    "print(average_alcohol)"
   ]
  },
  {
   "cell_type": "code",
   "execution_count": 81,
   "metadata": {},
   "outputs": [
    {
     "name": "stdout",
     "output_type": "stream",
     "text": [
      "50\n",
      "[ 30  75 120]\n",
      "[60 75 90]\n"
     ]
    }
   ],
   "source": [
    "vector = np.array([5, 10, 15, 20])\n",
    "print(vector.sum())\n",
    "matrix = np.array([\n",
    "                [5, 10, 15], \n",
    "                [20, 25, 30],\n",
    "                [35, 40, 45]\n",
    "             ])\n",
    "print(matrix.sum(axis=1))\n",
    "print(matrix.sum(axis=0))"
   ]
  },
  {
   "cell_type": "code",
   "execution_count": 85,
   "metadata": {},
   "outputs": [
    {
     "name": "stdout",
     "output_type": "stream",
     "text": [
      "[['1986' 'Americas' 'Canada' 'Other' '0']\n",
      " ['1986' 'Americas' 'Canada' 'Spirits' '3.11']\n",
      " ['1986' 'Americas' 'Canada' 'Beer' '4.87']\n",
      " ['1986' 'Americas' 'Canada' 'Wine' '1.33']]\n",
      "9.31\n"
     ]
    }
   ],
   "source": [
    "canada_1986 =(world_alcohol[:,0]==\"1986\") & (world_alcohol[:,2]==\"Canada\")\n",
    "canada_1986  = world_alcohol[canada_1986 ,:]\n",
    "print(canada_1986)\n",
    "canada_alcohol = canada_1986[:,4]\n",
    "canada_alcohol = canada_alcohol.astype(float)\n",
    "total_canadian_drinking = canada_alcohol.sum()\n",
    "print(total_canadian_drinking)\n"
   ]
  },
  {
   "cell_type": "code",
   "execution_count": 92,
   "metadata": {},
   "outputs": [
    {
     "name": "stdout",
     "output_type": "stream",
     "text": [
      "[['1989' 'Americas' 'Guatemala' 'Beer' '0.62']\n",
      " ['1989' 'Africa' 'Seychelles' 'Beer' '2.23']\n",
      " ['1989' 'Americas' 'Costa Rica' 'Spirits' '4.51']\n",
      " ..., \n",
      " ['1989' 'Eastern Mediterranean' 'Morocco' 'Spirits' '0.07']\n",
      " ['1989' 'Europe' 'Poland' 'Beer' '2.03']\n",
      " ['1989' 'Europe' 'Turkey' 'Other' '0']]\n",
      "16.29\n",
      "['Hungary']\n"
     ]
    }
   ],
   "source": [
    "countries = world_alcohol[:,2]\n",
    "#print(countries)\n",
    "totals = {}\n",
    "is_year = world_alcohol[:,0] == \"1989\"\n",
    "year = world_alcohol[is_year,:]\n",
    "print(year)\n",
    "\n",
    "for country in countries:\n",
    "    is_country = year[:,2] == country\n",
    "    country_consumption = year[is_country,:]\n",
    "    alcohol_column = country_consumption[:,4]\n",
    "    is_empty = alcohol_column == ''\n",
    "    alcohol_column[is_empty] = \"0\"\n",
    "    alcohol_column = alcohol_column.astype(float)\n",
    "    totals[country] = alcohol_column.sum()\n",
    "#print(totals)\n",
    "\n",
    "highest_value = None\n",
    "for i in totals:\n",
    "    count=totals[i]\n",
    "    if highest_value is None or count > highest_value:\n",
    "        highest_value=count\n",
    "print(highest_value)\n",
    "\n",
    "highest_key=[]\n",
    "for i in totals:\n",
    "    if totals[i] == highest_value:\n",
    "        highest_key.append(i)\n",
    "print(highest_key)\n",
    "\n",
    "highest_value = 0\n",
    "highest_key = None\n",
    "for country in totals:\n",
    "    consumption = totals[country]\n",
    "    if highest_value < consumption:\n",
    "        highest_value = consumption\n",
    "        highest_key = country"
   ]
  },
  {
   "cell_type": "code",
   "execution_count": null,
   "metadata": {
    "collapsed": true
   },
   "outputs": [],
   "source": [
    "# Another way of doing\n",
    "highest_value = 0\n",
    "highest_key = None\n",
    "for country in totals:\n",
    "    consumption = totals[country]\n",
    "    if highest_value < consumption:\n",
    "        highest_value = consumption\n",
    "        highest_key = country"
   ]
  }
 ],
 "metadata": {
  "kernelspec": {
   "display_name": "Python 3",
   "language": "python",
   "name": "python3"
  },
  "language_info": {
   "codemirror_mode": {
    "name": "ipython",
    "version": 3
   },
   "file_extension": ".py",
   "mimetype": "text/x-python",
   "name": "python",
   "nbconvert_exporter": "python",
   "pygments_lexer": "ipython3",
   "version": "3.6.1"
  }
 },
 "nbformat": 4,
 "nbformat_minor": 2
}
